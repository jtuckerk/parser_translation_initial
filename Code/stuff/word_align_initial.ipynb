{
 "cells": [
  {
   "cell_type": "code",
   "execution_count": 2,
   "metadata": {
    "collapsed": false
   },
   "outputs": [
    {
     "ename": "KeyboardInterrupt",
     "evalue": "",
     "output_type": "error",
     "traceback": [
      "\u001b[0;31m---------------------------------------------------------------------------\u001b[0m",
      "\u001b[0;31mKeyboardInterrupt\u001b[0m                         Traceback (most recent call last)",
      "\u001b[0;32m<ipython-input-2-c143ce944b61>\u001b[0m in \u001b[0;36m<module>\u001b[0;34m()\u001b[0m\n\u001b[1;32m     20\u001b[0m             \u001b[0;32mif\u001b[0m\u001b[0;34m(\u001b[0m\u001b[0mlen\u001b[0m\u001b[0;34m(\u001b[0m\u001b[0mindexs\u001b[0m\u001b[0;34m)\u001b[0m \u001b[0;34m!=\u001b[0m \u001b[0;36m2\u001b[0m \u001b[0;32mor\u001b[0m \u001b[0mindexs\u001b[0m\u001b[0;34m[\u001b[0m\u001b[0;36m0\u001b[0m\u001b[0;34m]\u001b[0m \u001b[0;34m==\u001b[0m \u001b[0;34m\"\"\u001b[0m \u001b[0;32mor\u001b[0m \u001b[0mindexs\u001b[0m\u001b[0;34m[\u001b[0m\u001b[0;36m1\u001b[0m\u001b[0;34m]\u001b[0m \u001b[0;34m==\u001b[0m \u001b[0;34m\"\"\u001b[0m\u001b[0;34m)\u001b[0m\u001b[0;34m:\u001b[0m\u001b[0;34m\u001b[0m\u001b[0m\n\u001b[1;32m     21\u001b[0m                 \u001b[0;32mcontinue\u001b[0m\u001b[0;34m\u001b[0m\u001b[0m\n\u001b[0;32m---> 22\u001b[0;31m             \u001b[0mpairings\u001b[0m\u001b[0;34m.\u001b[0m\u001b[0mappend\u001b[0m\u001b[0;34m(\u001b[0m\u001b[0;34m(\u001b[0m\u001b[0mint\u001b[0m\u001b[0;34m(\u001b[0m\u001b[0mindexs\u001b[0m\u001b[0;34m[\u001b[0m\u001b[0;36m0\u001b[0m\u001b[0;34m]\u001b[0m\u001b[0;34m)\u001b[0m\u001b[0;34m,\u001b[0m \u001b[0mint\u001b[0m\u001b[0;34m(\u001b[0m\u001b[0mindexs\u001b[0m\u001b[0;34m[\u001b[0m\u001b[0;36m1\u001b[0m\u001b[0;34m]\u001b[0m\u001b[0;34m)\u001b[0m\u001b[0;34m)\u001b[0m\u001b[0;34m)\u001b[0m\u001b[0;34m\u001b[0m\u001b[0m\n\u001b[0m\u001b[1;32m     23\u001b[0m         \u001b[0msentence_word_mappings\u001b[0m\u001b[0;34m.\u001b[0m\u001b[0mappend\u001b[0m\u001b[0;34m(\u001b[0m\u001b[0mpairings\u001b[0m\u001b[0;34m)\u001b[0m\u001b[0;34m\u001b[0m\u001b[0m\n\u001b[1;32m     24\u001b[0m         \u001b[0morig_sentences\u001b[0m\u001b[0;34m.\u001b[0m\u001b[0mappend\u001b[0m\u001b[0;34m(\u001b[0m\u001b[0my\u001b[0m\u001b[0;34m)\u001b[0m\u001b[0;34m\u001b[0m\u001b[0m\n",
      "\u001b[0;31mKeyboardInterrupt\u001b[0m: "
     ]
    }
   ],
   "source": [
    "align_file = \"/Users/tuckerkirven/Desktop/DR-Spring/Data/UN/aligned.intersect.en_2_es\"\n",
    "orig_file = \"/Users/tuckerkirven/Desktop/DR-Spring/Data/UN/c.true.en.en_2_es\"\n",
    "tgt_file = \"/Users/tuckerkirven/Desktop/DR-Spring/Data/UN/c.true.es.en_2_es\"\n",
    "numSents = 1\n",
    "sentence_word_mappings =[]\n",
    "orig_sentences = []\n",
    "target_sentences= []\n",
    "total=0\n",
    "perfect_matches=0\n",
    "\n",
    "from itertools import izip\n",
    "\n",
    "with open(align_file) as align, open(orig_file) as orig, open(tgt_file) as tgt: \n",
    "    for x, y, z in izip(align, orig, tgt):\n",
    "\n",
    "        pairings = []\n",
    "        for pair in x.split(\" \"):\n",
    "            indexs = pair.split(\"-\")\n",
    "          \n",
    "            if(len(indexs) != 2 or indexs[0] == \"\" or indexs[1] == \"\"):\n",
    "                continue\n",
    "            pairings.append((int(indexs[0]), int(indexs[1])))\n",
    "        sentence_word_mappings.append(pairings)\n",
    "        orig_sentences.append(y)\n",
    "        target_sentences.append(z)\n",
    "        #print \"=======\"\n",
    "        #print len(y.split(\" \"))\n",
    "        #print len(z.split(\" \"))\n",
    "        #print len(pairings)\n",
    "        if(len(z.split(\" \")) <= len(pairings)):\n",
    "            \n",
    "            sentence_word_mappings.append(pairings)\n",
    "            orig_sentences.append(y)\n",
    "            target_sentences.append(z)\n",
    "            perfect_matches+=1\n",
    "      \n",
    "        if perfect_matches>numSents:\n",
    "            break\n",
    "        total +=1\n",
    "print (1.0*perfect_matches)/total"
   ]
  },
  {
   "cell_type": "code",
   "execution_count": null,
   "metadata": {
    "collapsed": false
   },
   "outputs": [],
   "source": [
    "from spacy.en import English\n",
    "parser = English()"
   ]
  },
  {
   "cell_type": "code",
   "execution_count": null,
   "metadata": {
    "collapsed": false
   },
   "outputs": [],
   "source": [
    "\n",
    "print len(orig_sentences)\n",
    "print len(target_sentences)\n",
    "#parsedData = parser(multiSentence)"
   ]
  },
  {
   "cell_type": "code",
   "execution_count": 18,
   "metadata": {
    "collapsed": false
   },
   "outputs": [
    {
     "name": "stdout",
     "output_type": "stream",
     "text": [
      "unicode string\n",
      "==================\n",
      "ن\n",
      "ي\n",
      "و\n",
      "ي\n",
      "و\n",
      "ر\n",
      "ك\n",
      " \n",
      "،\n",
      " \n",
      "2\n",
      " \n",
      "-\n",
      " \n",
      "2\n",
      "7\n",
      " \n",
      "أ\n",
      "ي\n",
      "ا\n",
      "ر\n",
      " \n",
      "/\n",
      " \n",
      "م\n",
      "ا\n",
      "ي\n",
      "و\n",
      " \n",
      "2\n",
      "0\n",
      "0\n",
      "5\n",
      " \n",
      "\n",
      "\n",
      "unicode string\n"
     ]
    }
   ],
   "source": [
    "ar_file = \"/Users/tuckerkirven/Desktop/DR-Spring/Data/UN/c.true.ar.ar_2_en\"\n",
    "import codecs\n",
    "filename = codecs.open(ar_file, 'r', encoding=\"utf-8\")\n",
    "#outputfile = filename.readlines()\n",
    "count =0\n",
    "with codecs.open(ar_file, 'r', encoding=\"utf-8\") as ar_read:\n",
    "    for line in ar_read:\n",
    "        whatisthis(line)\n",
    "        if count > 10:\n",
    "            break\n",
    "        count +=1\n",
    "        print\"==================\"\n",
    "        for char in line:\n",
    "            count +=1\n",
    "            print char"
   ]
  },
  {
   "cell_type": "code",
   "execution_count": 15,
   "metadata": {
    "collapsed": true
   },
   "outputs": [],
   "source": [
    "def whatisthis(s):\n",
    "    if isinstance(s, str):\n",
    "        print \"ordinary string\"\n",
    "    elif isinstance(s, unicode):\n",
    "        print \"unicode string\"\n",
    "    else:\n",
    "        print \"not a string\""
   ]
  },
  {
   "cell_type": "code",
   "execution_count": null,
   "metadata": {
    "collapsed": true
   },
   "outputs": [],
   "source": []
  }
 ],
 "metadata": {
  "kernelspec": {
   "display_name": "Python 2",
   "language": "python",
   "name": "python2"
  },
  "language_info": {
   "codemirror_mode": {
    "name": "ipython",
    "version": 2
   },
   "file_extension": ".py",
   "mimetype": "text/x-python",
   "name": "python",
   "nbconvert_exporter": "python",
   "pygments_lexer": "ipython2",
   "version": "2.7.10"
  }
 },
 "nbformat": 4,
 "nbformat_minor": 0
}
