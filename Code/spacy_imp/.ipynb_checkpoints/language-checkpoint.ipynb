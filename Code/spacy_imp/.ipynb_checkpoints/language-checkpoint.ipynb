{
 "cells": [
  {
   "cell_type": "code",
   "execution_count": 9,
   "metadata": {
    "collapsed": true
   },
   "outputs": [],
   "source": [
    "from Parser import *"
   ]
  },
  {
   "cell_type": "code",
   "execution_count": 10,
   "metadata": {
    "collapsed": true
   },
   "outputs": [],
   "source": [
    "class Language(object):\n",
    "    def __init__(self, name, tagged_file_list=None):\n",
    "        self.name = name\n",
    "        if tagged_file_list is None:\n",
    "            tagged_file_list = []\n",
    "        self.tagged_file_list=tagged_file_list\n",
    "        \n",
    "        self.supervised_parser = Spacy_Parser()\n",
    "        self.unsupervised_parser = Spacy_Parser()\n",
    "        \n",
    "    def setup(self):\n",
    "        pass\n",
    "    def train_supervised_tagger(self):\n",
    "        pass\n",
    "    def train_supervised_parser(self):\n",
    "        pass\n",
    "    def test_supervised_tagger(self):\n",
    "        pass\n",
    "    def test_supervised_parser(self):\n",
    "        pass"
   ]
  },
  {
   "cell_type": "code",
   "execution_count": 11,
   "metadata": {
    "collapsed": true
   },
   "outputs": [],
   "source": [
    "class Translation(object):\n",
    "    def __init__(self, src_language, tgt_language, src_file, tgt_file, align_file):\n",
    "        self.src_language = src_language\n",
    "        self.src_file = src_file\n",
    "        \n",
    "        self.tgt_language = tgt_language\n",
    "        self.tgt_file = tgt_file\n",
    "        \n",
    "        self.align_file = align_file"
   ]
  },
  {
   "cell_type": "code",
   "execution_count": null,
   "metadata": {
    "collapsed": true
   },
   "outputs": [],
   "source": []
  },
  {
   "cell_type": "code",
   "execution_count": null,
   "metadata": {
    "collapsed": true
   },
   "outputs": [],
   "source": []
  }
 ],
 "metadata": {
  "kernelspec": {
   "display_name": "Python 2",
   "language": "python",
   "name": "python2"
  },
  "language_info": {
   "codemirror_mode": {
    "name": "ipython",
    "version": 2
   },
   "file_extension": ".py",
   "mimetype": "text/x-python",
   "name": "python",
   "nbconvert_exporter": "python",
   "pygments_lexer": "ipython2",
   "version": "2.7.10"
  }
 },
 "nbformat": 4,
 "nbformat_minor": 0
}
