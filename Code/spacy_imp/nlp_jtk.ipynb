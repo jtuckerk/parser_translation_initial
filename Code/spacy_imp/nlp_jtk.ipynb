{
 "cells": [
  {
   "cell_type": "code",
   "execution_count": null,
   "metadata": {
    "collapsed": false
   },
   "outputs": [],
   "source": []
  },
  {
   "cell_type": "code",
   "execution_count": 23,
   "metadata": {
    "collapsed": false
   },
   "outputs": [],
   "source": [
    "class Token:\n",
    "    \n",
    "    def __init__(self, orig_token=\"-\", pos_tag=\"-\", head=\"-\", conf=0):\n",
    "        self.orig = orig_token\n",
    "        self.pos_tag = pos_tag\n",
    "        if head.isdigit():\n",
    "            self.head = int(head)\n",
    "        else:\n",
    "            self.head = '-'\n",
    "        self.conf = conf\n",
    "        self.attr_list = [self.orig, self.pos_tag, self.head, self.conf]\n",
    "        self.testable_attr = [self.orig, self.pos_tag, self.head]\n",
    "        \n",
    "    def __str__(self):\n",
    "        return \"Token:\"+str(self.attr_list)\n",
    "        #return \"[\" + self.orig+ \", \"+ self.pos + \", \"+ self.head+ \"]\""
   ]
  },
  {
   "cell_type": "code",
   "execution_count": 24,
   "metadata": {
    "collapsed": true
   },
   "outputs": [],
   "source": [
    "class Sentence(object):\n",
    "    def __init__(self, tok_list=None):\n",
    "        if tok_list is None:\n",
    "            tok_list = []\n",
    "        self.token_list=tok_list\n",
    "    \n",
    "    def add_token(self, tok):\n",
    "        self.token_list.append(tok)\n",
    "        \n",
    "    def get_token_at(self, index):\n",
    "        return self.token_list[index]\n",
    "        \n",
    "    def get_tokens(self):\n",
    "        return self.token_list\n",
    "    \n",
    "    def words(self):\n",
    "        return [x.orig for x in self.token_list]\n",
    "    \n",
    "    def pos_tags(self):\n",
    "        return [x.pos_tag for x in self.token_list]\n",
    "    \n",
    "    def heads(self):\n",
    "        return [x.head for x in self.token_list]\n",
    "    \n",
    "    def head_strings(self):\n",
    "        return [self.token_list[x.head].orig for x in self.token_list]\n",
    "    \n",
    "    def set_heads(heads_list):\n",
    "        assert len(self.token_list) == len(heads_list)\n",
    "        for i, head in enumerate(heads_list):\n",
    "            self.token_list[i].head = head\n",
    "    \n",
    "    def set_pos_tags(pos_list):\n",
    "        assert len(self.token_list) == len(pos_list)\n",
    "        for i, head in enumerate(heads_list):\n",
    "            self.token_list[i].pos_tag = head\n",
    "            \n",
    "    def __len__(self):\n",
    "        return len(self.token_list)"
   ]
  },
  {
   "cell_type": "code",
   "execution_count": null,
   "metadata": {
    "collapsed": true
   },
   "outputs": [],
   "source": []
  }
 ],
 "metadata": {
  "kernelspec": {
   "display_name": "Python 2",
   "language": "python",
   "name": "python2"
  },
  "language_info": {
   "codemirror_mode": {
    "name": "ipython",
    "version": 2
   },
   "file_extension": ".py",
   "mimetype": "text/x-python",
   "name": "python",
   "nbconvert_exporter": "python",
   "pygments_lexer": "ipython2",
   "version": "2.7.10"
  }
 },
 "nbformat": 4,
 "nbformat_minor": 0
}
