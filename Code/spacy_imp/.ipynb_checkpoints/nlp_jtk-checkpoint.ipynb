{
 "cells": [
  {
   "cell_type": "code",
   "execution_count": null,
   "metadata": {
    "collapsed": false
   },
   "outputs": [],
   "source": []
  },
  {
   "cell_type": "code",
   "execution_count": 6,
   "metadata": {
    "collapsed": false
   },
   "outputs": [],
   "source": [
    "class Token:\n",
    "    \n",
    "    def __init__(self, orig_token=\"-\", pos_tag=\"-\", head=\"-\",head_label='-', conf=0):\n",
    "        self.orig = orig_token\n",
    "        self.pos_tag = pos_tag\n",
    "        if head.isdigit():\n",
    "            self.head = int(head)\n",
    "        else:\n",
    "            self.head = '-'\n",
    "            \n",
    "        self.head_label = head_label\n",
    "        self.conf = conf\n",
    "        \n",
    "    def get_testable_attr_list(self):\n",
    "        return [(\"POS tag\", self.pos_tag), (\"Head Index\",self.head), (\"Dependency Label\", self.head_label)]\n",
    "    \n",
    "    def get_attr_list(self):\n",
    "        return [self.orig, self.pos_tag, self.head,self.head_label, self.conf]\n",
    "    \n",
    "    def __str__(self):\n",
    "        return \"Token:\"+str(self.get_attr_list())\n",
    "        #return \"[\" + self.orig+ \", \"+ self.pos + \", \"+ self.head+ \"]\""
   ]
  },
  {
   "cell_type": "code",
   "execution_count": 18,
   "metadata": {
    "collapsed": true
   },
   "outputs": [],
   "source": [
    "class Sentence(object):\n",
    "    def __init__(self, tok_list=None):\n",
    "        if tok_list is None:\n",
    "            tok_list = []\n",
    "        self.token_list=tok_list\n",
    "    \n",
    "    def add_token(self, tok):\n",
    "        self.token_list.append(tok)\n",
    "        \n",
    "    def get_token_at(self, index):\n",
    "        return self.token_list[index]\n",
    "        \n",
    "    def get_tokens(self):\n",
    "        return self.token_list\n",
    "    \n",
    "    def words(self):\n",
    "        if self.token_list == None:\n",
    "            print \"WWWTTTTTFFFF\"\n",
    "        return [x.orig for x in self.token_list]\n",
    "    \n",
    "    def pos_tags(self):\n",
    "        return [x.pos_tag for x in self.token_list]\n",
    "    \n",
    "    def heads(self):\n",
    "        return [x.head for x in self.token_list][1:]\n",
    "    \n",
    "    def head_strings(self):\n",
    "        return [self.token_list[x.head].orig for x in self.token_list]\n",
    "    \n",
    "    def head_labels(self):\n",
    "        return [x.head_label for x in self.token_list]\n",
    "    \n",
    "    def add_words(self, words_list):\n",
    "        for word in words_list:\n",
    "            self.token_list.append(Token(word))\n",
    "            \n",
    "    def set_heads(self, heads_list):\n",
    "        #this is weird\n",
    "        assert len(self.token_list)-1 == len(heads_list)\n",
    "        for i, head in enumerate(heads_list):\n",
    "            self.token_list[i+1].head = head\n",
    "    \n",
    "    def set_head_labels(self, head_label_list):\n",
    "        assert len(self.token_list)-1 == len(head_label_list)\n",
    "        for i, head_label in enumerate(head_label_list):\n",
    "            self.token_list[i+1].head_label = head_label\n",
    "    \n",
    "    def set_pos_tags(self, pos_list):\n",
    "        assert len(self.token_list) == len(pos_list)\n",
    "        for i, tag in enumerate(pos_list):\n",
    "            self.token_list[i].pos_tag = tag\n",
    "            \n",
    "    def set_confidences(self, conf_list):\n",
    "        assert len(self.token_list) == len(conf_list)\n",
    "        for i, conf in enumerate(conf_list):\n",
    "            self.token_list[i].conf = conf\n",
    "    def clear_tags(self):\n",
    "        for tok in self.token_list:\n",
    "            tok = Token(orig_token=tok.orig)\n",
    "        return self\n",
    "            \n",
    "    def __len__(self):\n",
    "        return len(self.token_list)"
   ]
  },
  {
   "cell_type": "code",
   "execution_count": null,
   "metadata": {
    "collapsed": true
   },
   "outputs": [],
   "source": []
  },
  {
   "cell_type": "code",
   "execution_count": null,
   "metadata": {
    "collapsed": true
   },
   "outputs": [],
   "source": []
  }
 ],
 "metadata": {
  "kernelspec": {
   "display_name": "Python 2",
   "language": "python",
   "name": "python2"
  },
  "language_info": {
   "codemirror_mode": {
    "name": "ipython",
    "version": 2
   },
   "file_extension": ".py",
   "mimetype": "text/x-python",
   "name": "python",
   "nbconvert_exporter": "python",
   "pygments_lexer": "ipython2",
   "version": "2.7.8"
  }
 },
 "nbformat": 4,
 "nbformat_minor": 0
}
