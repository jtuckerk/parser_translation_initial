{
 "cells": [
  {
   "cell_type": "code",
   "execution_count": 37,
   "metadata": {
    "collapsed": false
   },
   "outputs": [
    {
     "name": "stdout",
     "output_type": "stream",
     "text": [
      "0.211637748625\n"
     ]
    }
   ],
   "source": [
    "align_file = \"/Users/tuckerkirven/Desktop/DR-Spring/Data/UN/aligned.intersect\"\n",
    "orig_file = \"/Users/tuckerkirven/Desktop/DR-Spring/Data/UN/c.true.en\"\n",
    "tgt_file = \"/Users/tuckerkirven/Desktop/DR-Spring/Data/UN/c.true.es\"\n",
    "numSents = 5000\n",
    "sentence_word_mappings =[]\n",
    "orig_sentences = []\n",
    "target_sentences= []\n",
    "total=0\n",
    "perfect_matches=0\n",
    "\n",
    "from itertools import izip\n",
    "\n",
    "with open(align_file) as align, open(orig_file) as orig, open(tgt_file) as tgt: \n",
    "    for x, y, z in izip(align, orig, tgt):\n",
    "        x = x.strip()\n",
    "        y = y.strip()\n",
    "        \n",
    "        pairings = []\n",
    "        for pair in x.split(\" \"):\n",
    "            indexs = pair.split(\"-\")\n",
    "            if(indexs[0] == \"\" or indexs[1] == \"\"):\n",
    "                continue\n",
    "            pairings.append((int(indexs[0]), int(indexs[1])))\n",
    "        sentence_word_mappings.append(pairings)\n",
    "        orig_sentences.append(y)\n",
    "        target_sentences.append(z)\n",
    "        #print \"=======\"\n",
    "        #print len(y.split(\" \"))\n",
    "        #print len(z.split(\" \"))\n",
    "        #print len(pairings)\n",
    "        if(len(y.split(\" \")) == len(z.split(\" \")) or len(y.split(\" \")) == len(pairings)):\n",
    "            \n",
    "            sentence_word_mappings.append(pairings)\n",
    "            orig_sentences.append(y)\n",
    "            target_sentences.append(z)\n",
    "            perfect_matches+=1\n",
    "        total +=1\n",
    "        if perfect_matches>numSents:\n",
    "            break\n",
    "print (1.0*perfect_matches)/total"
   ]
  },
  {
   "cell_type": "code",
   "execution_count": 13,
   "metadata": {
    "collapsed": false
   },
   "outputs": [],
   "source": [
    "from spacy.en import English\n",
    "parser = English()"
   ]
  },
  {
   "cell_type": "code",
   "execution_count": 25,
   "metadata": {
    "collapsed": false
   },
   "outputs": [
    {
     "name": "stdout",
     "output_type": "stream",
     "text": [
      "501\n",
      "501\n"
     ]
    }
   ],
   "source": [
    "\n",
    "print len(orig_sentences)\n",
    "print len(target_sentences)\n",
    "#parsedData = parser(multiSentence)"
   ]
  },
  {
   "cell_type": "code",
   "execution_count": null,
   "metadata": {
    "collapsed": false
   },
   "outputs": [],
   "source": []
  },
  {
   "cell_type": "code",
   "execution_count": null,
   "metadata": {
    "collapsed": true
   },
   "outputs": [],
   "source": []
  }
 ],
 "metadata": {
  "kernelspec": {
   "display_name": "Python 2",
   "language": "python",
   "name": "python2"
  },
  "language_info": {
   "codemirror_mode": {
    "name": "ipython",
    "version": 2
   },
   "file_extension": ".py",
   "mimetype": "text/x-python",
   "name": "python",
   "nbconvert_exporter": "python",
   "pygments_lexer": "ipython2",
   "version": "2.7.10"
  }
 },
 "nbformat": 4,
 "nbformat_minor": 0
}
